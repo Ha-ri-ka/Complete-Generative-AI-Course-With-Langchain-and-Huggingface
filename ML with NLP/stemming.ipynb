{
 "cells": [
  {
   "cell_type": "markdown",
   "id": "bf3e7cca",
   "metadata": {},
   "source": [
    "Stemming is a process used in language processing where we reduce words to their base or root form.The idea is to treat different forms of a word as the same thing. This helps computers understand that these words are related and makes searching or analyzing text easier.stemming is like trimming words down to their simplest form."
   ]
  },
  {
   "cell_type": "code",
   "execution_count": 4,
   "id": "aeb869fe",
   "metadata": {},
   "outputs": [],
   "source": [
    "import nltk\n",
    "from nltk.stem import PorterStemmer"
   ]
  },
  {
   "cell_type": "markdown",
   "id": "c523810f",
   "metadata": {},
   "source": [
    "## PorterStemmer"
   ]
  },
  {
   "cell_type": "code",
   "execution_count": 5,
   "id": "889809fd",
   "metadata": {},
   "outputs": [
    {
     "name": "stdout",
     "output_type": "stream",
     "text": [
      "connect\n",
      "connect\n",
      "connect\n",
      "connect\n",
      "connect\n"
     ]
    }
   ],
   "source": [
    "connect_group = [\"connected\", \"connecting\", \"connection\", \"connections\", \"connective\"]\n",
    "porterStemmer=PorterStemmer()\n",
    "for word in connect_group:\n",
    "    print(porterStemmer.stem(word))"
   ]
  },
  {
   "cell_type": "code",
   "execution_count": null,
   "id": "a66a8d0f",
   "metadata": {},
   "outputs": [],
   "source": []
  }
 ],
 "metadata": {
  "kernelspec": {
   "display_name": "Python 3",
   "language": "python",
   "name": "python3"
  },
  "language_info": {
   "codemirror_mode": {
    "name": "ipython",
    "version": 3
   },
   "file_extension": ".py",
   "mimetype": "text/x-python",
   "name": "python",
   "nbconvert_exporter": "python",
   "pygments_lexer": "ipython3",
   "version": "3.10.5"
  }
 },
 "nbformat": 4,
 "nbformat_minor": 5
}
